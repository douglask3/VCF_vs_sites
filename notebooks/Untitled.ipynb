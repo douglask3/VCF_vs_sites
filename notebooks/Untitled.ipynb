{
 "cells": [
  {
   "cell_type": "markdown",
   "metadata": {},
   "source": [
    "Walkthrough VCF vs Field Site Methods\n",
    "--------------------\n",
    "\n",
    "Methods:\n",
    "* introduce overlap + clumping\n",
    "* correction equations of 4 combinations of enforced-unenforced overlap-clumping\n",
    "* scale down mvcf to 100 m, apply correction, then transform mvcf back to 250 m\n",
    "* mask out relevant forest-savanna regions in tropics on MCD12Q1\n",
    "* resample corrected mvcf to 500 m grid, merge with MCD12Q1"
   ]
  },
  {
   "cell_type": "code",
   "execution_count": 1,
   "metadata": {},
   "outputs": [],
   "source": [
    "import numpy  as np\n",
    "import pandas as pd\n",
    "import csv as yay\n",
    "import math\n",
    "\n",
    "import matplotlib.pyplot as plt"
   ]
  },
  {
   "cell_type": "markdown",
   "metadata": {},
   "source": [
    "Step 1: Introducing 'overlap' to account for canopy overlap within field site (enforced vs. unenforced)"
   ]
  },
  {
   "cell_type": "code",
   "execution_count": null,
   "metadata": {},
   "outputs": [],
   "source": []
  },
  {
   "cell_type": "markdown",
   "metadata": {},
   "source": [
    "Step 2: MVCF multiplied by 0.8 to make it comparable to CAI tree cover value. Size mismatch between field site and pixel addressed by introducing 'clumping' (enforced vs. unenforced)"
   ]
  },
  {
   "cell_type": "code",
   "execution_count": null,
   "metadata": {},
   "outputs": [],
   "source": []
  },
  {
   "cell_type": "markdown",
   "metadata": {},
   "source": [
    "Step 3: Create correction equations for: enforced overlap – enforced clumping; enforced overlap – unenforced clumping; unenforced overlap – enforced clumping; unenforced overlap – unenforced clumping using\n",
    "\n",
    "𝑙𝑜𝑔𝑖𝑡(𝑉𝐶𝐹)=𝐶0+𝛥×𝑙𝑜𝑔(𝐶𝜏1/(1−𝐶𝜏2)(Equation 1)\n",
    "\n",
    "here 𝐶0,𝛥,𝜏1,𝜏2are optimised parameters and VCF and C are the MODIS VCF pixel and TROBIT site probability distributions, respectively. \n"
   ]
  },
  {
   "cell_type": "code",
   "execution_count": null,
   "metadata": {},
   "outputs": [],
   "source": []
  },
  {
   "cell_type": "markdown",
   "metadata": {},
   "source": [
    "Step 4: MVCF is converted to 100 m x 100 m pixel size to make it comparable to field sites, then apply corrections. Corrected MVCF then rescaled back to original 250 m x 250 m pixel size\n"
   ]
  },
  {
   "cell_type": "code",
   "execution_count": null,
   "metadata": {},
   "outputs": [],
   "source": []
  },
  {
   "cell_type": "markdown",
   "metadata": {},
   "source": [
    "Step 5: Tropics mapped out on 500 m MCD12Q1 product, excluding cover types not considered as ‘forest’ or ‘savanna’ "
   ]
  },
  {
   "cell_type": "code",
   "execution_count": null,
   "metadata": {},
   "outputs": [],
   "source": []
  },
  {
   "cell_type": "markdown",
   "metadata": {},
   "source": [
    "Step 6: Resample corrected 250 m x 250 m MVCF pixels to 500 m grid to combine with masked MCD12Q1 map of tropics to create land-cover-specific MVCF frequency distributions across the tropics"
   ]
  },
  {
   "cell_type": "code",
   "execution_count": 2,
   "metadata": {},
   "outputs": [],
   "source": [
    "path = '../data/trobit_vcf_comparison.csv'"
   ]
  },
  {
   "cell_type": "code",
   "execution_count": 3,
   "metadata": {},
   "outputs": [
    {
     "data": {
      "text/plain": [
       "<matplotlib.collections.PathCollection at 0x7f0f6bb90370>"
      ]
     },
     "execution_count": 3,
     "metadata": {},
     "output_type": "execute_result"
    },
    {
     "data": {
      "image/png": "[encoded data removed]",
      "text/plain": [
       "<Figure size 432x288 with 1 Axes>"
      ]
     },
     "metadata": {
      "needs_background": "light"
     },
     "output_type": "display_data"
    }
   ],
   "source": [
    "df = pd.read_csv(path)\n",
    "plt.scatter(df['mvcf_pct'], df['trobit_pct'])"
   ]
  },
  {
   "cell_type": "code",
   "execution_count": null,
   "metadata": {},
   "outputs": [],
   "source": []
  },
  {
   "cell_type": "code",
   "execution_count": null,
   "metadata": {},
   "outputs": [],
   "source": []
  }
 ],
 "metadata": {
  "kernelspec": {
   "display_name": "Python 3",
   "language": "python",
   "name": "python3"
  },
  "language_info": {
   "codemirror_mode": {
    "name": "ipython",
    "version": 3
   },
   "file_extension": ".py",
   "mimetype": "text/x-python",
   "name": "python",
   "nbconvert_exporter": "python",
   "pygments_lexer": "ipython3",
   "version": "3.8.5"
  }
 },
 "nbformat": 4,
 "nbformat_minor": 2
}
